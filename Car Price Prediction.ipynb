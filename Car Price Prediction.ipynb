{
 "cells": [
  {
   "cell_type": "code",
   "execution_count": 49,
   "id": "4a96d51e",
   "metadata": {},
   "outputs": [],
   "source": [
    "import warnings\n",
    "warnings.filterwarnings(\"ignore\")\n",
    "\n",
    "import numpy as np\n",
    "import pandas as pd\n",
    "import matplotlib.pyplot as plt\n",
    "import seaborn as sns"
   ]
  },
  {
   "cell_type": "code",
   "execution_count": 50,
   "id": "5231ff34",
   "metadata": {},
   "outputs": [
    {
     "data": {
      "text/html": [
       "<div>\n",
       "<style scoped>\n",
       "    .dataframe tbody tr th:only-of-type {\n",
       "        vertical-align: middle;\n",
       "    }\n",
       "\n",
       "    .dataframe tbody tr th {\n",
       "        vertical-align: top;\n",
       "    }\n",
       "\n",
       "    .dataframe thead th {\n",
       "        text-align: right;\n",
       "    }\n",
       "</style>\n",
       "<table border=\"1\" class=\"dataframe\">\n",
       "  <thead>\n",
       "    <tr style=\"text-align: right;\">\n",
       "      <th></th>\n",
       "      <th>Car_Name</th>\n",
       "      <th>Year</th>\n",
       "      <th>Selling_Price</th>\n",
       "      <th>Present_Price</th>\n",
       "      <th>Kms_Driven</th>\n",
       "      <th>Fuel_Type</th>\n",
       "      <th>Seller_Type</th>\n",
       "      <th>Transmission</th>\n",
       "      <th>Owner</th>\n",
       "    </tr>\n",
       "  </thead>\n",
       "  <tbody>\n",
       "    <tr>\n",
       "      <th>0</th>\n",
       "      <td>ritz</td>\n",
       "      <td>2014</td>\n",
       "      <td>3.35</td>\n",
       "      <td>5.59</td>\n",
       "      <td>27000</td>\n",
       "      <td>Petrol</td>\n",
       "      <td>Dealer</td>\n",
       "      <td>Manual</td>\n",
       "      <td>0</td>\n",
       "    </tr>\n",
       "    <tr>\n",
       "      <th>1</th>\n",
       "      <td>sx4</td>\n",
       "      <td>2013</td>\n",
       "      <td>4.75</td>\n",
       "      <td>9.54</td>\n",
       "      <td>43000</td>\n",
       "      <td>Diesel</td>\n",
       "      <td>Dealer</td>\n",
       "      <td>Manual</td>\n",
       "      <td>0</td>\n",
       "    </tr>\n",
       "    <tr>\n",
       "      <th>2</th>\n",
       "      <td>ciaz</td>\n",
       "      <td>2017</td>\n",
       "      <td>7.25</td>\n",
       "      <td>9.85</td>\n",
       "      <td>6900</td>\n",
       "      <td>Petrol</td>\n",
       "      <td>Dealer</td>\n",
       "      <td>Manual</td>\n",
       "      <td>0</td>\n",
       "    </tr>\n",
       "    <tr>\n",
       "      <th>3</th>\n",
       "      <td>wagon r</td>\n",
       "      <td>2011</td>\n",
       "      <td>2.85</td>\n",
       "      <td>4.15</td>\n",
       "      <td>5200</td>\n",
       "      <td>Petrol</td>\n",
       "      <td>Dealer</td>\n",
       "      <td>Manual</td>\n",
       "      <td>0</td>\n",
       "    </tr>\n",
       "    <tr>\n",
       "      <th>4</th>\n",
       "      <td>swift</td>\n",
       "      <td>2014</td>\n",
       "      <td>4.60</td>\n",
       "      <td>6.87</td>\n",
       "      <td>42450</td>\n",
       "      <td>Diesel</td>\n",
       "      <td>Dealer</td>\n",
       "      <td>Manual</td>\n",
       "      <td>0</td>\n",
       "    </tr>\n",
       "  </tbody>\n",
       "</table>\n",
       "</div>"
      ],
      "text/plain": [
       "  Car_Name  Year  Selling_Price  Present_Price  Kms_Driven Fuel_Type  \\\n",
       "0     ritz  2014           3.35           5.59       27000    Petrol   \n",
       "1      sx4  2013           4.75           9.54       43000    Diesel   \n",
       "2     ciaz  2017           7.25           9.85        6900    Petrol   \n",
       "3  wagon r  2011           2.85           4.15        5200    Petrol   \n",
       "4    swift  2014           4.60           6.87       42450    Diesel   \n",
       "\n",
       "  Seller_Type Transmission  Owner  \n",
       "0      Dealer       Manual      0  \n",
       "1      Dealer       Manual      0  \n",
       "2      Dealer       Manual      0  \n",
       "3      Dealer       Manual      0  \n",
       "4      Dealer       Manual      0  "
      ]
     },
     "execution_count": 50,
     "metadata": {},
     "output_type": "execute_result"
    }
   ],
   "source": [
    "df = pd.read_csv(\"car data.csv\")\n",
    "df.head()"
   ]
  },
  {
   "cell_type": "code",
   "execution_count": 51,
   "id": "1dc68f73",
   "metadata": {},
   "outputs": [
    {
     "name": "stdout",
     "output_type": "stream",
     "text": [
      "<class 'pandas.core.frame.DataFrame'>\n",
      "RangeIndex: 301 entries, 0 to 300\n",
      "Data columns (total 9 columns):\n",
      " #   Column         Non-Null Count  Dtype  \n",
      "---  ------         --------------  -----  \n",
      " 0   Car_Name       301 non-null    object \n",
      " 1   Year           301 non-null    int64  \n",
      " 2   Selling_Price  301 non-null    float64\n",
      " 3   Present_Price  301 non-null    float64\n",
      " 4   Kms_Driven     301 non-null    int64  \n",
      " 5   Fuel_Type      301 non-null    object \n",
      " 6   Seller_Type    301 non-null    object \n",
      " 7   Transmission   301 non-null    object \n",
      " 8   Owner          301 non-null    int64  \n",
      "dtypes: float64(2), int64(3), object(4)\n",
      "memory usage: 21.3+ KB\n"
     ]
    }
   ],
   "source": [
    "df.info()"
   ]
  },
  {
   "cell_type": "code",
   "execution_count": 52,
   "id": "fe3cf3a4",
   "metadata": {},
   "outputs": [
    {
     "data": {
      "text/plain": [
       "Car_Name         0\n",
       "Year             0\n",
       "Selling_Price    0\n",
       "Present_Price    0\n",
       "Kms_Driven       0\n",
       "Fuel_Type        0\n",
       "Seller_Type      0\n",
       "Transmission     0\n",
       "Owner            0\n",
       "dtype: int64"
      ]
     },
     "execution_count": 52,
     "metadata": {},
     "output_type": "execute_result"
    }
   ],
   "source": [
    "df.isnull().sum()"
   ]
  },
  {
   "cell_type": "markdown",
   "id": "204645c5",
   "metadata": {},
   "source": [
    "Here there is no null value in data set"
   ]
  },
  {
   "cell_type": "code",
   "execution_count": 53,
   "id": "60de67ca",
   "metadata": {},
   "outputs": [
    {
     "data": {
      "text/html": [
       "<div>\n",
       "<style scoped>\n",
       "    .dataframe tbody tr th:only-of-type {\n",
       "        vertical-align: middle;\n",
       "    }\n",
       "\n",
       "    .dataframe tbody tr th {\n",
       "        vertical-align: top;\n",
       "    }\n",
       "\n",
       "    .dataframe thead th {\n",
       "        text-align: right;\n",
       "    }\n",
       "</style>\n",
       "<table border=\"1\" class=\"dataframe\">\n",
       "  <thead>\n",
       "    <tr style=\"text-align: right;\">\n",
       "      <th></th>\n",
       "      <th>Year</th>\n",
       "      <th>Selling_Price</th>\n",
       "      <th>Present_Price</th>\n",
       "      <th>Kms_Driven</th>\n",
       "      <th>Owner</th>\n",
       "    </tr>\n",
       "  </thead>\n",
       "  <tbody>\n",
       "    <tr>\n",
       "      <th>count</th>\n",
       "      <td>301.000000</td>\n",
       "      <td>301.000000</td>\n",
       "      <td>301.000000</td>\n",
       "      <td>301.000000</td>\n",
       "      <td>301.000000</td>\n",
       "    </tr>\n",
       "    <tr>\n",
       "      <th>mean</th>\n",
       "      <td>2013.627907</td>\n",
       "      <td>4.661296</td>\n",
       "      <td>7.628472</td>\n",
       "      <td>36947.205980</td>\n",
       "      <td>0.043189</td>\n",
       "    </tr>\n",
       "    <tr>\n",
       "      <th>std</th>\n",
       "      <td>2.891554</td>\n",
       "      <td>5.082812</td>\n",
       "      <td>8.644115</td>\n",
       "      <td>38886.883882</td>\n",
       "      <td>0.247915</td>\n",
       "    </tr>\n",
       "    <tr>\n",
       "      <th>min</th>\n",
       "      <td>2003.000000</td>\n",
       "      <td>0.100000</td>\n",
       "      <td>0.320000</td>\n",
       "      <td>500.000000</td>\n",
       "      <td>0.000000</td>\n",
       "    </tr>\n",
       "    <tr>\n",
       "      <th>25%</th>\n",
       "      <td>2012.000000</td>\n",
       "      <td>0.900000</td>\n",
       "      <td>1.200000</td>\n",
       "      <td>15000.000000</td>\n",
       "      <td>0.000000</td>\n",
       "    </tr>\n",
       "    <tr>\n",
       "      <th>50%</th>\n",
       "      <td>2014.000000</td>\n",
       "      <td>3.600000</td>\n",
       "      <td>6.400000</td>\n",
       "      <td>32000.000000</td>\n",
       "      <td>0.000000</td>\n",
       "    </tr>\n",
       "    <tr>\n",
       "      <th>75%</th>\n",
       "      <td>2016.000000</td>\n",
       "      <td>6.000000</td>\n",
       "      <td>9.900000</td>\n",
       "      <td>48767.000000</td>\n",
       "      <td>0.000000</td>\n",
       "    </tr>\n",
       "    <tr>\n",
       "      <th>max</th>\n",
       "      <td>2018.000000</td>\n",
       "      <td>35.000000</td>\n",
       "      <td>92.600000</td>\n",
       "      <td>500000.000000</td>\n",
       "      <td>3.000000</td>\n",
       "    </tr>\n",
       "  </tbody>\n",
       "</table>\n",
       "</div>"
      ],
      "text/plain": [
       "              Year  Selling_Price  Present_Price     Kms_Driven       Owner\n",
       "count   301.000000     301.000000     301.000000     301.000000  301.000000\n",
       "mean   2013.627907       4.661296       7.628472   36947.205980    0.043189\n",
       "std       2.891554       5.082812       8.644115   38886.883882    0.247915\n",
       "min    2003.000000       0.100000       0.320000     500.000000    0.000000\n",
       "25%    2012.000000       0.900000       1.200000   15000.000000    0.000000\n",
       "50%    2014.000000       3.600000       6.400000   32000.000000    0.000000\n",
       "75%    2016.000000       6.000000       9.900000   48767.000000    0.000000\n",
       "max    2018.000000      35.000000      92.600000  500000.000000    3.000000"
      ]
     },
     "execution_count": 53,
     "metadata": {},
     "output_type": "execute_result"
    }
   ],
   "source": [
    "df.describe()"
   ]
  },
  {
   "cell_type": "code",
   "execution_count": 54,
   "id": "bb0ad6f6",
   "metadata": {},
   "outputs": [
    {
     "data": {
      "text/plain": [
       "Petrol    239\n",
       "Diesel     60\n",
       "CNG         2\n",
       "Name: Fuel_Type, dtype: int64"
      ]
     },
     "execution_count": 54,
     "metadata": {},
     "output_type": "execute_result"
    }
   ],
   "source": [
    "df.Fuel_Type.value_counts()"
   ]
  },
  {
   "cell_type": "code",
   "execution_count": 55,
   "id": "fc77fb32",
   "metadata": {},
   "outputs": [
    {
     "data": {
      "text/plain": [
       "Dealer        195\n",
       "Individual    106\n",
       "Name: Seller_Type, dtype: int64"
      ]
     },
     "execution_count": 55,
     "metadata": {},
     "output_type": "execute_result"
    }
   ],
   "source": [
    "df.Seller_Type.value_counts()"
   ]
  },
  {
   "cell_type": "code",
   "execution_count": 56,
   "id": "258359e5",
   "metadata": {},
   "outputs": [
    {
     "data": {
      "text/plain": [
       "Manual       261\n",
       "Automatic     40\n",
       "Name: Transmission, dtype: int64"
      ]
     },
     "execution_count": 56,
     "metadata": {},
     "output_type": "execute_result"
    }
   ],
   "source": [
    "df.Transmission.value_counts()"
   ]
  },
  {
   "cell_type": "code",
   "execution_count": 57,
   "id": "288e994b",
   "metadata": {},
   "outputs": [],
   "source": [
    "x = df.iloc[:,[1,3,4,5,6,7,8]]\n",
    "y = df.iloc[:,2]"
   ]
  },
  {
   "cell_type": "code",
   "execution_count": 58,
   "id": "13a918b8",
   "metadata": {},
   "outputs": [
    {
     "data": {
      "text/html": [
       "<div>\n",
       "<style scoped>\n",
       "    .dataframe tbody tr th:only-of-type {\n",
       "        vertical-align: middle;\n",
       "    }\n",
       "\n",
       "    .dataframe tbody tr th {\n",
       "        vertical-align: top;\n",
       "    }\n",
       "\n",
       "    .dataframe thead th {\n",
       "        text-align: right;\n",
       "    }\n",
       "</style>\n",
       "<table border=\"1\" class=\"dataframe\">\n",
       "  <thead>\n",
       "    <tr style=\"text-align: right;\">\n",
       "      <th></th>\n",
       "      <th>Year</th>\n",
       "      <th>Present_Price</th>\n",
       "      <th>Kms_Driven</th>\n",
       "      <th>Fuel_Type</th>\n",
       "      <th>Seller_Type</th>\n",
       "      <th>Transmission</th>\n",
       "      <th>Owner</th>\n",
       "    </tr>\n",
       "  </thead>\n",
       "  <tbody>\n",
       "    <tr>\n",
       "      <th>0</th>\n",
       "      <td>2014</td>\n",
       "      <td>5.59</td>\n",
       "      <td>27000</td>\n",
       "      <td>Petrol</td>\n",
       "      <td>Dealer</td>\n",
       "      <td>Manual</td>\n",
       "      <td>0</td>\n",
       "    </tr>\n",
       "    <tr>\n",
       "      <th>1</th>\n",
       "      <td>2013</td>\n",
       "      <td>9.54</td>\n",
       "      <td>43000</td>\n",
       "      <td>Diesel</td>\n",
       "      <td>Dealer</td>\n",
       "      <td>Manual</td>\n",
       "      <td>0</td>\n",
       "    </tr>\n",
       "    <tr>\n",
       "      <th>2</th>\n",
       "      <td>2017</td>\n",
       "      <td>9.85</td>\n",
       "      <td>6900</td>\n",
       "      <td>Petrol</td>\n",
       "      <td>Dealer</td>\n",
       "      <td>Manual</td>\n",
       "      <td>0</td>\n",
       "    </tr>\n",
       "    <tr>\n",
       "      <th>3</th>\n",
       "      <td>2011</td>\n",
       "      <td>4.15</td>\n",
       "      <td>5200</td>\n",
       "      <td>Petrol</td>\n",
       "      <td>Dealer</td>\n",
       "      <td>Manual</td>\n",
       "      <td>0</td>\n",
       "    </tr>\n",
       "    <tr>\n",
       "      <th>4</th>\n",
       "      <td>2014</td>\n",
       "      <td>6.87</td>\n",
       "      <td>42450</td>\n",
       "      <td>Diesel</td>\n",
       "      <td>Dealer</td>\n",
       "      <td>Manual</td>\n",
       "      <td>0</td>\n",
       "    </tr>\n",
       "    <tr>\n",
       "      <th>...</th>\n",
       "      <td>...</td>\n",
       "      <td>...</td>\n",
       "      <td>...</td>\n",
       "      <td>...</td>\n",
       "      <td>...</td>\n",
       "      <td>...</td>\n",
       "      <td>...</td>\n",
       "    </tr>\n",
       "    <tr>\n",
       "      <th>296</th>\n",
       "      <td>2016</td>\n",
       "      <td>11.60</td>\n",
       "      <td>33988</td>\n",
       "      <td>Diesel</td>\n",
       "      <td>Dealer</td>\n",
       "      <td>Manual</td>\n",
       "      <td>0</td>\n",
       "    </tr>\n",
       "    <tr>\n",
       "      <th>297</th>\n",
       "      <td>2015</td>\n",
       "      <td>5.90</td>\n",
       "      <td>60000</td>\n",
       "      <td>Petrol</td>\n",
       "      <td>Dealer</td>\n",
       "      <td>Manual</td>\n",
       "      <td>0</td>\n",
       "    </tr>\n",
       "    <tr>\n",
       "      <th>298</th>\n",
       "      <td>2009</td>\n",
       "      <td>11.00</td>\n",
       "      <td>87934</td>\n",
       "      <td>Petrol</td>\n",
       "      <td>Dealer</td>\n",
       "      <td>Manual</td>\n",
       "      <td>0</td>\n",
       "    </tr>\n",
       "    <tr>\n",
       "      <th>299</th>\n",
       "      <td>2017</td>\n",
       "      <td>12.50</td>\n",
       "      <td>9000</td>\n",
       "      <td>Diesel</td>\n",
       "      <td>Dealer</td>\n",
       "      <td>Manual</td>\n",
       "      <td>0</td>\n",
       "    </tr>\n",
       "    <tr>\n",
       "      <th>300</th>\n",
       "      <td>2016</td>\n",
       "      <td>5.90</td>\n",
       "      <td>5464</td>\n",
       "      <td>Petrol</td>\n",
       "      <td>Dealer</td>\n",
       "      <td>Manual</td>\n",
       "      <td>0</td>\n",
       "    </tr>\n",
       "  </tbody>\n",
       "</table>\n",
       "<p>301 rows × 7 columns</p>\n",
       "</div>"
      ],
      "text/plain": [
       "     Year  Present_Price  Kms_Driven Fuel_Type Seller_Type Transmission  Owner\n",
       "0    2014           5.59       27000    Petrol      Dealer       Manual      0\n",
       "1    2013           9.54       43000    Diesel      Dealer       Manual      0\n",
       "2    2017           9.85        6900    Petrol      Dealer       Manual      0\n",
       "3    2011           4.15        5200    Petrol      Dealer       Manual      0\n",
       "4    2014           6.87       42450    Diesel      Dealer       Manual      0\n",
       "..    ...            ...         ...       ...         ...          ...    ...\n",
       "296  2016          11.60       33988    Diesel      Dealer       Manual      0\n",
       "297  2015           5.90       60000    Petrol      Dealer       Manual      0\n",
       "298  2009          11.00       87934    Petrol      Dealer       Manual      0\n",
       "299  2017          12.50        9000    Diesel      Dealer       Manual      0\n",
       "300  2016           5.90        5464    Petrol      Dealer       Manual      0\n",
       "\n",
       "[301 rows x 7 columns]"
      ]
     },
     "execution_count": 58,
     "metadata": {},
     "output_type": "execute_result"
    }
   ],
   "source": [
    "x  #feature 2 Dimension"
   ]
  },
  {
   "cell_type": "code",
   "execution_count": 59,
   "id": "2a9a1021",
   "metadata": {},
   "outputs": [
    {
     "data": {
      "text/plain": [
       "0       3.35\n",
       "1       4.75\n",
       "2       7.25\n",
       "3       2.85\n",
       "4       4.60\n",
       "       ...  \n",
       "296     9.50\n",
       "297     4.00\n",
       "298     3.35\n",
       "299    11.50\n",
       "300     5.30\n",
       "Name: Selling_Price, Length: 301, dtype: float64"
      ]
     },
     "execution_count": 59,
     "metadata": {},
     "output_type": "execute_result"
    }
   ],
   "source": [
    "y # Target 1 Dimenstion"
   ]
  },
  {
   "cell_type": "code",
   "execution_count": 60,
   "id": "21a466fe",
   "metadata": {},
   "outputs": [
    {
     "data": {
      "text/html": [
       "<div>\n",
       "<style scoped>\n",
       "    .dataframe tbody tr th:only-of-type {\n",
       "        vertical-align: middle;\n",
       "    }\n",
       "\n",
       "    .dataframe tbody tr th {\n",
       "        vertical-align: top;\n",
       "    }\n",
       "\n",
       "    .dataframe thead th {\n",
       "        text-align: right;\n",
       "    }\n",
       "</style>\n",
       "<table border=\"1\" class=\"dataframe\">\n",
       "  <thead>\n",
       "    <tr style=\"text-align: right;\">\n",
       "      <th></th>\n",
       "      <th>Year</th>\n",
       "      <th>Present_Price</th>\n",
       "      <th>Kms_Driven</th>\n",
       "      <th>Fuel_Type</th>\n",
       "      <th>Seller_Type</th>\n",
       "      <th>Transmission</th>\n",
       "      <th>Owner</th>\n",
       "    </tr>\n",
       "  </thead>\n",
       "  <tbody>\n",
       "    <tr>\n",
       "      <th>0</th>\n",
       "      <td>2014</td>\n",
       "      <td>5.59</td>\n",
       "      <td>27000</td>\n",
       "      <td>Petrol</td>\n",
       "      <td>Dealer</td>\n",
       "      <td>Manual</td>\n",
       "      <td>0</td>\n",
       "    </tr>\n",
       "    <tr>\n",
       "      <th>1</th>\n",
       "      <td>2013</td>\n",
       "      <td>9.54</td>\n",
       "      <td>43000</td>\n",
       "      <td>Diesel</td>\n",
       "      <td>Dealer</td>\n",
       "      <td>Manual</td>\n",
       "      <td>0</td>\n",
       "    </tr>\n",
       "    <tr>\n",
       "      <th>2</th>\n",
       "      <td>2017</td>\n",
       "      <td>9.85</td>\n",
       "      <td>6900</td>\n",
       "      <td>Petrol</td>\n",
       "      <td>Dealer</td>\n",
       "      <td>Manual</td>\n",
       "      <td>0</td>\n",
       "    </tr>\n",
       "    <tr>\n",
       "      <th>3</th>\n",
       "      <td>2011</td>\n",
       "      <td>4.15</td>\n",
       "      <td>5200</td>\n",
       "      <td>Petrol</td>\n",
       "      <td>Dealer</td>\n",
       "      <td>Manual</td>\n",
       "      <td>0</td>\n",
       "    </tr>\n",
       "    <tr>\n",
       "      <th>4</th>\n",
       "      <td>2014</td>\n",
       "      <td>6.87</td>\n",
       "      <td>42450</td>\n",
       "      <td>Diesel</td>\n",
       "      <td>Dealer</td>\n",
       "      <td>Manual</td>\n",
       "      <td>0</td>\n",
       "    </tr>\n",
       "    <tr>\n",
       "      <th>...</th>\n",
       "      <td>...</td>\n",
       "      <td>...</td>\n",
       "      <td>...</td>\n",
       "      <td>...</td>\n",
       "      <td>...</td>\n",
       "      <td>...</td>\n",
       "      <td>...</td>\n",
       "    </tr>\n",
       "    <tr>\n",
       "      <th>296</th>\n",
       "      <td>2016</td>\n",
       "      <td>11.60</td>\n",
       "      <td>33988</td>\n",
       "      <td>Diesel</td>\n",
       "      <td>Dealer</td>\n",
       "      <td>Manual</td>\n",
       "      <td>0</td>\n",
       "    </tr>\n",
       "    <tr>\n",
       "      <th>297</th>\n",
       "      <td>2015</td>\n",
       "      <td>5.90</td>\n",
       "      <td>60000</td>\n",
       "      <td>Petrol</td>\n",
       "      <td>Dealer</td>\n",
       "      <td>Manual</td>\n",
       "      <td>0</td>\n",
       "    </tr>\n",
       "    <tr>\n",
       "      <th>298</th>\n",
       "      <td>2009</td>\n",
       "      <td>11.00</td>\n",
       "      <td>87934</td>\n",
       "      <td>Petrol</td>\n",
       "      <td>Dealer</td>\n",
       "      <td>Manual</td>\n",
       "      <td>0</td>\n",
       "    </tr>\n",
       "    <tr>\n",
       "      <th>299</th>\n",
       "      <td>2017</td>\n",
       "      <td>12.50</td>\n",
       "      <td>9000</td>\n",
       "      <td>Diesel</td>\n",
       "      <td>Dealer</td>\n",
       "      <td>Manual</td>\n",
       "      <td>0</td>\n",
       "    </tr>\n",
       "    <tr>\n",
       "      <th>300</th>\n",
       "      <td>2016</td>\n",
       "      <td>5.90</td>\n",
       "      <td>5464</td>\n",
       "      <td>Petrol</td>\n",
       "      <td>Dealer</td>\n",
       "      <td>Manual</td>\n",
       "      <td>0</td>\n",
       "    </tr>\n",
       "  </tbody>\n",
       "</table>\n",
       "<p>301 rows × 7 columns</p>\n",
       "</div>"
      ],
      "text/plain": [
       "     Year  Present_Price  Kms_Driven Fuel_Type Seller_Type Transmission  Owner\n",
       "0    2014           5.59       27000    Petrol      Dealer       Manual      0\n",
       "1    2013           9.54       43000    Diesel      Dealer       Manual      0\n",
       "2    2017           9.85        6900    Petrol      Dealer       Manual      0\n",
       "3    2011           4.15        5200    Petrol      Dealer       Manual      0\n",
       "4    2014           6.87       42450    Diesel      Dealer       Manual      0\n",
       "..    ...            ...         ...       ...         ...          ...    ...\n",
       "296  2016          11.60       33988    Diesel      Dealer       Manual      0\n",
       "297  2015           5.90       60000    Petrol      Dealer       Manual      0\n",
       "298  2009          11.00       87934    Petrol      Dealer       Manual      0\n",
       "299  2017          12.50        9000    Diesel      Dealer       Manual      0\n",
       "300  2016           5.90        5464    Petrol      Dealer       Manual      0\n",
       "\n",
       "[301 rows x 7 columns]"
      ]
     },
     "execution_count": 60,
     "metadata": {},
     "output_type": "execute_result"
    }
   ],
   "source": [
    "x"
   ]
  },
  {
   "cell_type": "code",
   "execution_count": 61,
   "id": "615a8758",
   "metadata": {},
   "outputs": [
    {
     "data": {
      "text/html": [
       "<div>\n",
       "<style scoped>\n",
       "    .dataframe tbody tr th:only-of-type {\n",
       "        vertical-align: middle;\n",
       "    }\n",
       "\n",
       "    .dataframe tbody tr th {\n",
       "        vertical-align: top;\n",
       "    }\n",
       "\n",
       "    .dataframe thead th {\n",
       "        text-align: right;\n",
       "    }\n",
       "</style>\n",
       "<table border=\"1\" class=\"dataframe\">\n",
       "  <thead>\n",
       "    <tr style=\"text-align: right;\">\n",
       "      <th></th>\n",
       "      <th>Year</th>\n",
       "      <th>Present_Price</th>\n",
       "      <th>Kms_Driven</th>\n",
       "      <th>Owner</th>\n",
       "    </tr>\n",
       "  </thead>\n",
       "  <tbody>\n",
       "    <tr>\n",
       "      <th>count</th>\n",
       "      <td>301.000000</td>\n",
       "      <td>301.000000</td>\n",
       "      <td>301.000000</td>\n",
       "      <td>301.000000</td>\n",
       "    </tr>\n",
       "    <tr>\n",
       "      <th>mean</th>\n",
       "      <td>2013.627907</td>\n",
       "      <td>7.628472</td>\n",
       "      <td>36947.205980</td>\n",
       "      <td>0.043189</td>\n",
       "    </tr>\n",
       "    <tr>\n",
       "      <th>std</th>\n",
       "      <td>2.891554</td>\n",
       "      <td>8.644115</td>\n",
       "      <td>38886.883882</td>\n",
       "      <td>0.247915</td>\n",
       "    </tr>\n",
       "    <tr>\n",
       "      <th>min</th>\n",
       "      <td>2003.000000</td>\n",
       "      <td>0.320000</td>\n",
       "      <td>500.000000</td>\n",
       "      <td>0.000000</td>\n",
       "    </tr>\n",
       "    <tr>\n",
       "      <th>25%</th>\n",
       "      <td>2012.000000</td>\n",
       "      <td>1.200000</td>\n",
       "      <td>15000.000000</td>\n",
       "      <td>0.000000</td>\n",
       "    </tr>\n",
       "    <tr>\n",
       "      <th>50%</th>\n",
       "      <td>2014.000000</td>\n",
       "      <td>6.400000</td>\n",
       "      <td>32000.000000</td>\n",
       "      <td>0.000000</td>\n",
       "    </tr>\n",
       "    <tr>\n",
       "      <th>75%</th>\n",
       "      <td>2016.000000</td>\n",
       "      <td>9.900000</td>\n",
       "      <td>48767.000000</td>\n",
       "      <td>0.000000</td>\n",
       "    </tr>\n",
       "    <tr>\n",
       "      <th>max</th>\n",
       "      <td>2018.000000</td>\n",
       "      <td>92.600000</td>\n",
       "      <td>500000.000000</td>\n",
       "      <td>3.000000</td>\n",
       "    </tr>\n",
       "  </tbody>\n",
       "</table>\n",
       "</div>"
      ],
      "text/plain": [
       "              Year  Present_Price     Kms_Driven       Owner\n",
       "count   301.000000     301.000000     301.000000  301.000000\n",
       "mean   2013.627907       7.628472   36947.205980    0.043189\n",
       "std       2.891554       8.644115   38886.883882    0.247915\n",
       "min    2003.000000       0.320000     500.000000    0.000000\n",
       "25%    2012.000000       1.200000   15000.000000    0.000000\n",
       "50%    2014.000000       6.400000   32000.000000    0.000000\n",
       "75%    2016.000000       9.900000   48767.000000    0.000000\n",
       "max    2018.000000      92.600000  500000.000000    3.000000"
      ]
     },
     "execution_count": 61,
     "metadata": {},
     "output_type": "execute_result"
    }
   ],
   "source": [
    "x.describe()"
   ]
  },
  {
   "cell_type": "markdown",
   "id": "e0e0cf2b",
   "metadata": {},
   "source": [
    "Here from above figures it is clear that Present_Price,Kms_Driven has positive skewness"
   ]
  },
  {
   "cell_type": "code",
   "execution_count": 62,
   "id": "e614fca9",
   "metadata": {},
   "outputs": [
    {
     "data": {
      "text/plain": [
       "Index(['Fuel_Type', 'Seller_Type', 'Transmission'], dtype='object')"
      ]
     },
     "execution_count": 62,
     "metadata": {},
     "output_type": "execute_result"
    }
   ],
   "source": [
    "catcol=x.select_dtypes(object).columns\n",
    "catcol"
   ]
  },
  {
   "cell_type": "code",
   "execution_count": 63,
   "id": "4253b34c",
   "metadata": {},
   "outputs": [],
   "source": [
    "from sklearn.preprocessing import OrdinalEncoder\n",
    "oe=OrdinalEncoder()\n",
    "x[catcol]=oe.fit_transform(x[catcol])\n"
   ]
  },
  {
   "cell_type": "code",
   "execution_count": 64,
   "id": "709901aa",
   "metadata": {},
   "outputs": [
    {
     "data": {
      "text/html": [
       "<div>\n",
       "<style scoped>\n",
       "    .dataframe tbody tr th:only-of-type {\n",
       "        vertical-align: middle;\n",
       "    }\n",
       "\n",
       "    .dataframe tbody tr th {\n",
       "        vertical-align: top;\n",
       "    }\n",
       "\n",
       "    .dataframe thead th {\n",
       "        text-align: right;\n",
       "    }\n",
       "</style>\n",
       "<table border=\"1\" class=\"dataframe\">\n",
       "  <thead>\n",
       "    <tr style=\"text-align: right;\">\n",
       "      <th></th>\n",
       "      <th>Year</th>\n",
       "      <th>Present_Price</th>\n",
       "      <th>Kms_Driven</th>\n",
       "      <th>Fuel_Type</th>\n",
       "      <th>Seller_Type</th>\n",
       "      <th>Transmission</th>\n",
       "      <th>Owner</th>\n",
       "    </tr>\n",
       "  </thead>\n",
       "  <tbody>\n",
       "    <tr>\n",
       "      <th>0</th>\n",
       "      <td>2014</td>\n",
       "      <td>5.59</td>\n",
       "      <td>27000</td>\n",
       "      <td>2.0</td>\n",
       "      <td>0.0</td>\n",
       "      <td>1.0</td>\n",
       "      <td>0</td>\n",
       "    </tr>\n",
       "    <tr>\n",
       "      <th>1</th>\n",
       "      <td>2013</td>\n",
       "      <td>9.54</td>\n",
       "      <td>43000</td>\n",
       "      <td>1.0</td>\n",
       "      <td>0.0</td>\n",
       "      <td>1.0</td>\n",
       "      <td>0</td>\n",
       "    </tr>\n",
       "    <tr>\n",
       "      <th>2</th>\n",
       "      <td>2017</td>\n",
       "      <td>9.85</td>\n",
       "      <td>6900</td>\n",
       "      <td>2.0</td>\n",
       "      <td>0.0</td>\n",
       "      <td>1.0</td>\n",
       "      <td>0</td>\n",
       "    </tr>\n",
       "    <tr>\n",
       "      <th>3</th>\n",
       "      <td>2011</td>\n",
       "      <td>4.15</td>\n",
       "      <td>5200</td>\n",
       "      <td>2.0</td>\n",
       "      <td>0.0</td>\n",
       "      <td>1.0</td>\n",
       "      <td>0</td>\n",
       "    </tr>\n",
       "    <tr>\n",
       "      <th>4</th>\n",
       "      <td>2014</td>\n",
       "      <td>6.87</td>\n",
       "      <td>42450</td>\n",
       "      <td>1.0</td>\n",
       "      <td>0.0</td>\n",
       "      <td>1.0</td>\n",
       "      <td>0</td>\n",
       "    </tr>\n",
       "  </tbody>\n",
       "</table>\n",
       "</div>"
      ],
      "text/plain": [
       "   Year  Present_Price  Kms_Driven  Fuel_Type  Seller_Type  Transmission  \\\n",
       "0  2014           5.59       27000        2.0          0.0           1.0   \n",
       "1  2013           9.54       43000        1.0          0.0           1.0   \n",
       "2  2017           9.85        6900        2.0          0.0           1.0   \n",
       "3  2011           4.15        5200        2.0          0.0           1.0   \n",
       "4  2014           6.87       42450        1.0          0.0           1.0   \n",
       "\n",
       "   Owner  \n",
       "0      0  \n",
       "1      0  \n",
       "2      0  \n",
       "3      0  \n",
       "4      0  "
      ]
     },
     "execution_count": 64,
     "metadata": {},
     "output_type": "execute_result"
    }
   ],
   "source": [
    "x.head()"
   ]
  },
  {
   "cell_type": "markdown",
   "id": "94ccb225",
   "metadata": {},
   "source": [
    "# Splitting the Data into Train and Test"
   ]
  },
  {
   "cell_type": "code",
   "execution_count": 65,
   "id": "b696398c",
   "metadata": {},
   "outputs": [],
   "source": [
    "from sklearn.model_selection import train_test_split\n",
    "xtrain,xtest,ytrain,ytest = train_test_split(x,y,test_size=0.3, random_state=2)"
   ]
  },
  {
   "cell_type": "markdown",
   "id": "3e258506",
   "metadata": {},
   "source": [
    "# Creation of Machine Learning Model"
   ]
  },
  {
   "cell_type": "code",
   "execution_count": 66,
   "id": "5dee9491",
   "metadata": {},
   "outputs": [],
   "source": [
    "\n",
    "#step1 Import the Model\n",
    "from sklearn.linear_model import LinearRegression\n",
    "\n",
    "#step2 Initiate the model\n",
    "linreg=LinearRegression()\n",
    "\n",
    "#step3 train the model\n",
    "linreg.fit(xtrain,ytrain)\n",
    "\n",
    "#step4 make prediction\n",
    "ypred = linreg.predict(xtest)\n",
    "train_data_prediction = linreg.predict(xtrain)\n",
    "test_data_prediction = linreg.predict(xtest)"
   ]
  },
  {
   "cell_type": "markdown",
   "id": "ccee0885",
   "metadata": {},
   "source": [
    "# Model Evaluation"
   ]
  },
  {
   "cell_type": "code",
   "execution_count": 67,
   "id": "98b97354",
   "metadata": {},
   "outputs": [
    {
     "name": "stdout",
     "output_type": "stream",
     "text": [
      "MAE : 1.1946770038687478\n",
      "MSE : 2.6087042112159744\n",
      "RMSE : 1.6151483557914965\n",
      "Accuracy : 0.8191909743727105\n"
     ]
    }
   ],
   "source": [
    "from sklearn.metrics import mean_absolute_error, mean_squared_error, r2_score\n",
    "mae = mean_absolute_error(ytest, ypred)\n",
    "mse = mean_squared_error(ytest, ypred)\n",
    "rmse = np.sqrt(mse)\n",
    "r2 = r2_score(ytest, ypred)\n",
    "\n",
    "print(f\"MAE : {mae}\\nMSE : {mse}\\nRMSE : {rmse}\\nAccuracy : {r2}\")"
   ]
  },
  {
   "cell_type": "markdown",
   "id": "a07fa29e",
   "metadata": {},
   "source": [
    "# Visualization of Actual Price and Predicted selling Price"
   ]
  },
  {
   "cell_type": "code",
   "execution_count": 68,
   "id": "dea43763",
   "metadata": {},
   "outputs": [
    {
     "data": {
      "image/png": "[encoded data removed]",
      "text/plain": [
       "<Figure size 432x288 with 1 Axes>"
      ]
     },
     "metadata": {
      "needs_background": "light"
     },
     "output_type": "display_data"
    }
   ],
   "source": [
    "plt.scatter(ytrain,linreg.predict(xtrain),color=\"red\")\n",
    "plt.xlabel(\"Actual Price\")\n",
    "plt.ylabel(\"Predicted Price\")\n",
    "plt.title(\" Actual Prices vs Predicted Prices\")\n",
    "plt.grid()\n",
    "plt.show()"
   ]
  },
  {
   "cell_type": "code",
   "execution_count": 69,
   "id": "62d1f6b6",
   "metadata": {},
   "outputs": [
    {
     "data": {
      "image/png": "[encoded data removed]",
      "text/plain": [
       "<Figure size 432x288 with 1 Axes>"
      ]
     },
     "metadata": {
      "needs_background": "light"
     },
     "output_type": "display_data"
    }
   ],
   "source": [
    "plt.scatter(ytest,linreg.predict(xtest),color=\"blue\")\n",
    "plt.xlabel(\"Actual Price\")\n",
    "plt.ylabel(\"Predicted Price\")\n",
    "plt.title(\" Actual Prices vs Predicted Prices\")\n",
    "plt.grid()\n",
    "plt.show()"
   ]
  },
  {
   "cell_type": "code",
   "execution_count": 70,
   "id": "494a0fd3",
   "metadata": {},
   "outputs": [
    {
     "data": {
      "text/plain": [
       "Index(['Year', 'Present_Price', 'Kms_Driven', 'Fuel_Type', 'Seller_Type',\n",
       "       'Transmission', 'Owner'],\n",
       "      dtype='object')"
      ]
     },
     "execution_count": 70,
     "metadata": {},
     "output_type": "execute_result"
    }
   ],
   "source": [
    "x.columns"
   ]
  },
  {
   "cell_type": "code",
   "execution_count": 71,
   "id": "db96de14",
   "metadata": {},
   "outputs": [],
   "source": [
    "def priceprediction(year,pp,kd,ft,st,trans,owner):\n",
    "    newob = [[year,pp,kd,ft,st,trans,owner]]\n",
    "    yp = linreg.predict(newob)[0]\n",
    "    print(f\"The price of your Car is $ {yp: .2f}\")\n",
    "    return yp"
   ]
  },
  {
   "cell_type": "code",
   "execution_count": 72,
   "id": "6f256c14",
   "metadata": {},
   "outputs": [
    {
     "name": "stdout",
     "output_type": "stream",
     "text": [
      "The price of your Car is $  5.88\n"
     ]
    },
    {
     "data": {
      "text/plain": [
       "5.883046579146253"
      ]
     },
     "execution_count": 72,
     "metadata": {},
     "output_type": "execute_result"
    }
   ],
   "source": [
    "priceprediction(2019,5.59,27000,2,0,1,0)"
   ]
  },
  {
   "cell_type": "code",
   "execution_count": 73,
   "id": "8e90d034",
   "metadata": {},
   "outputs": [
    {
     "name": "stdout",
     "output_type": "stream",
     "text": [
      "The price of your Car is $  3.85\n"
     ]
    },
    {
     "data": {
      "text/plain": [
       "3.846680957210083"
      ]
     },
     "execution_count": 73,
     "metadata": {},
     "output_type": "execute_result"
    }
   ],
   "source": [
    "priceprediction(2014,5.59,27000,2,0,1,0)"
   ]
  },
  {
   "cell_type": "markdown",
   "id": "0f096b07",
   "metadata": {},
   "source": [
    "# Ridge and Lasso Regularization"
   ]
  },
  {
   "cell_type": "markdown",
   "id": "fc0988e1",
   "metadata": {},
   "source": [
    "# 1)Check Ridge L2 Error"
   ]
  },
  {
   "cell_type": "code",
   "execution_count": 74,
   "id": "7329d3ae",
   "metadata": {},
   "outputs": [
    {
     "name": "stdout",
     "output_type": "stream",
     "text": [
      "Training Results: 0.8835500247545313\n",
      "Testing Results: 0.8401744559943167\n"
     ]
    }
   ],
   "source": [
    "from sklearn.linear_model import Ridge,Lasso\n",
    "l2=Ridge(alpha=10)\n",
    "l2.fit(xtrain,ytrain)\n",
    "ypred=l2.predict(xtest)\n",
    "\n",
    "train=l2.score(xtrain,ytrain)\n",
    "test=l2.score(xtest,ytest)\n",
    "\n",
    "print(f\"Training Results: {train}\")\n",
    "print(f\"Testing Results: {test}\")"
   ]
  },
  {
   "cell_type": "markdown",
   "id": "c59f81eb",
   "metadata": {},
   "source": [
    "# Hyper parameter Tunning for Ridge"
   ]
  },
  {
   "cell_type": "code",
   "execution_count": 75,
   "id": "82771f5f",
   "metadata": {},
   "outputs": [
    {
     "name": "stdout",
     "output_type": "stream",
     "text": [
      "1  0.8862970084748801  0.8225649005728876\n",
      "2  0.8861566477516889  0.8255355446814184\n",
      "3  0.8859483071996481  0.8281629464686459\n",
      "4  0.8856875497428529  0.8304961445624488\n",
      "5  0.8853865117618571  0.8325755871167843\n",
      "6  0.8850547335280444  0.8344349277250904\n",
      "7  0.884699764933675  0.836102384803486\n",
      "8  0.8843276139588236  0.8376017850684709\n",
      "9  0.883943083105112  0.8389533745513416\n",
      "10  0.8835500247545313  0.8401744559943167\n",
      "11  0.8831515370300347  0.8412798948449489\n",
      "12  0.8827501154408905  0.8422825246052322\n",
      "13  0.8823477712961583  0.8431934742543119\n",
      "14  0.8819461248838139  0.8440224347384753\n",
      "15  0.8815464793085276  0.8447778773853261\n",
      "16  0.8811498793778454  0.8454672340711407\n",
      "17  0.880757158839295  0.84609704672805\n",
      "18  0.8803689784757791  0.8466730920985751\n",
      "19  0.8799858569791005  0.8472004863754041\n",
      "20  0.879608196082936  0.8476837733950341\n",
      "21  0.879236301106732  0.8481269993081452\n",
      "22  0.8788703978114113  0.8485337760700379\n",
      "23  0.8785106462763442  0.8489073356424716\n",
      "24  0.8781571523594736  0.8492505764412855\n",
      "25  0.87780997718806  0.8495661032820073\n",
      "26  0.8774691450382587  0.8498562618505217\n",
      "27  0.8771346498917001  0.8501231685450695\n",
      "28  0.8768064609018741  0.8503687363903265\n",
      "29  0.8764845269592724  0.8505946976062791\n",
      "30  0.876168780509244  0.8508026233182029\n",
      "31  0.8758591407484971  0.8509939408157743\n",
      "32  0.875555516303548  0.8511699487041894\n",
      "33  0.8752578074763002  0.8513318302371707\n",
      "34  0.874965908127077  0.8514806650770997\n",
      "35  0.8746797072533637  0.8516174396910653\n",
      "36  0.8743990903127393  0.8517430565605368\n",
      "37  0.874123940330364  0.8518583423569085\n",
      "38  0.8738541388247455  0.8519640552132408\n",
      "39  0.8735895665800291  0.8520608912044227\n",
      "40  0.8733301042885364  0.8521494901324598\n",
      "41  0.8730756330834866  0.8522304407004764\n",
      "42  0.8728260349786734  0.8523042851479397\n",
      "43  0.8725811932293783  0.8523715234098549\n",
      "44  0.8723409926264238  0.8524326168549129\n",
      "45  0.8721053197335781  0.8524879916501685\n",
      "46  0.8718740630769573  0.8525380417941513\n",
      "47  0.8716471132937251  0.852583131854999\n",
      "48  0.8714243632463134  0.8526235994455439\n",
      "49  0.8712057081075163  0.8526597574638477\n",
      "50  0.8709910454209333  0.8526918961239237\n",
      "51  0.8707802751406529  0.8527202847985833\n",
      "52  0.8705732996534643  0.8527451736939027\n",
      "53  0.8703700237863924  0.8527667953724437\n",
      "54  0.8701703548019927  0.8527853661405458\n",
      "55  0.8699742023834418  0.8528010873130941\n",
      "56  0.8697814786111742  0.8528141463680375\n",
      "57  0.8695920979325877  0.8528247180011381\n",
      "58  0.8694059771260935  0.8528329650908335\n",
      "59  0.8692230352605876  0.8528390395814452\n",
      "60  0.8690431936513288  0.8528430832927099\n",
      "61  0.8688663758129465  0.8528452286622987\n",
      "62  0.8686925074103422  0.8528455994275929\n",
      "63  0.8685215162080002  0.8528443112521549\n",
      "64  0.8683533320182169  0.8528414723019679\n",
      "65  0.8681878866486871  0.8528371837759037\n",
      "66  0.8680251138497613  0.8528315403944002\n",
      "67  0.867864949261686  0.8528246308500985\n",
      "68  0.8677073303620941  0.8528165382236519\n",
      "69  0.8675521964139112  0.8528073403676899\n",
      "70  0.8673994884138754  0.8527971102617307\n",
      "71  0.8672491490418204  0.8527859163404095\n",
      "72  0.8671011226107957  0.852773822797173\n",
      "73  0.866955355018157  0.852760889865683\n",
      "74  0.866811793697684  0.8527471740805059\n",
      "75  0.8666703875727764  0.8527327285189479\n",
      "76  0.8665310870107648  0.8527176030254296\n",
      "77  0.866393843778397  0.8527018444198884\n",
      "78  0.8662586109984706  0.852685496691342\n",
      "79  0.8661253431076786  0.8526686011779703\n",
      "80  0.8659939958156198  0.852651196734511\n",
      "81  0.8658645260650086  0.8526333198881659\n",
      "82  0.8657368919930541  0.8526150049837784\n",
      "83  0.8656110528940018  0.852596284319098\n",
      "84  0.8654869691828438  0.8525771882709406\n",
      "85  0.8653646023601321  0.8525577454128186\n",
      "86  0.8652439149779257  0.852537982624793\n",
      "87  0.8651248706067994  0.8525179251960159\n",
      "88  0.8650074338039524  0.8524975969205368\n",
      "89  0.864891570082311  0.852477020186888\n",
      "90  0.8647772458806655  0.852456216061807\n",
      "91  0.8646644285347959  0.8524352043686271\n",
      "92  0.864553086249525  0.8524140037606197\n",
      "93  0.8644431880717376  0.8523926317896625\n",
      "94  0.8643347038642636  0.8523711049706206\n",
      "95  0.8642276042806767  0.852349438841665\n",
      "96  0.8641218607408858  0.8523276480207844\n",
      "97  0.8640174454075926  0.8523057462588959\n",
      "98  0.8639143311635238  0.8522837464895411\n",
      "99  0.8638124915894273  0.8522616608757377\n",
      "100  0.8637119009428116  0.8522395008537588\n",
      "101  0.8636125341374113  0.8522172771744242\n",
      "102  0.8635143667233351  0.8521949999418532\n",
      "103  0.8634173748678902  0.8521726786498793\n",
      "104  0.863321535337038  0.8521503222163214\n",
      "105  0.863226825477496  0.8521279390152056\n",
      "106  0.8631332231994181  0.852105536907162\n",
      "107  0.8630407069596764  0.8520831232679216\n",
      "108  0.8629492557456905  0.8520607050152462\n",
      "109  0.8628588490597995  0.8520382886342767\n",
      "110  0.8627694669041563  0.8520158802013931\n",
      "111  0.862681089766128  0.8519934854067206\n",
      "112  0.862593698604177  0.8519711095753814\n",
      "113  0.8625072748342169  0.8519487576874871\n",
      "114  0.8624218003163959  0.8519264343970097\n",
      "115  0.862337257342362  0.8519041440496399\n",
      "116  0.8622536286228915  0.851881890699581\n",
      "117  0.8621708972759765  0.8518596781254308\n",
      "118  0.8620890468152452  0.851837509845192\n",
      "119  0.8620080611388191  0.8518153891304345\n",
      "120  0.8619279245184841  0.8517933190196805\n",
      "121  0.8618486215892412  0.8517713023310667\n",
      "122  0.8617701373391726  0.8517493416743043\n",
      "123  0.8616924570996528  0.8517274394619558\n",
      "124  0.8616155665358654  0.8517055979201982\n",
      "125  0.8615394516376185  0.851683819098844\n",
      "126  0.8614640987104596  0.8516621048810189\n",
      "127  0.8613894943670648  0.8516404569921461\n",
      "128  0.8613156255189117  0.8516188770085422\n",
      "129  0.861242479368199  0.8515973663655346\n",
      "130  0.8611700434000266  0.8515759263651193\n",
      "131  0.8610983053748361  0.8515545581833157\n",
      "132  0.8610272533210424  0.8515332628769662\n",
      "133  0.8609568755279519  0.8515120413903039\n",
      "134  0.8608871605388542  0.8514908945611644\n",
      "135  0.8608180971443331  0.8514698231267996\n",
      "136  0.8607496743758261  0.8514488277294794\n",
      "137  0.8606818814993012  0.8514279089217403\n",
      "138  0.8606147080091934  0.8514070671713454\n",
      "139  0.8605481436225171  0.8513863028660799\n",
      "140  0.8604821782731041  0.8513656163181959\n",
      "141  0.8604168021060875  0.851345007768688\n",
      "142  0.8603520054724852  0.8513244773913256\n",
      "143  0.8602877789239922  0.8513040252964623\n",
      "144  0.8602241132079117  0.8512836515347112\n",
      "145  0.8601609992622222  0.8512633561003834\n",
      "146  0.860098428210798  0.8512431389346952\n",
      "147  0.8600363913588045  0.8512229999289924\n",
      "148  0.859974880188152  0.8512029389275446\n",
      "149  0.8599138863531617  0.8511829557304839\n",
      "150  0.8598534016763101  0.8511630500963747\n",
      "151  0.8597934181441056  0.8511432217447332\n",
      "152  0.8597339279030931  0.8511234703584674\n",
      "153  0.8596749232559566  0.851103795586073\n",
      "154  0.859616396657757  0.8510841970438608\n",
      "155  0.85955834071225  0.8510646743179409\n",
      "156  0.8595007481683274  0.8510452269662265\n",
      "157  0.8594436119165543  0.8510258545201833\n",
      "158  0.8593869249857844  0.8510065564866779\n",
      "159  0.8593306805399082  0.8509873323495619\n",
      "160  0.8592748718746566  0.8509681815712992\n",
      "161  0.8592194924145138  0.8509491035944378\n",
      "162  0.8591645357097009  0.8509300978430059\n",
      "163  0.8591099954332544  0.8509111637239191\n",
      "164  0.8590558653781775  0.8508923006282034\n",
      "165  0.8590021394546695  0.850873507932226\n",
      "166  0.8589488116874507  0.8508547849988903\n",
      "167  0.8588958762131003  0.8508361311786343\n",
      "168  0.8588433272775594  0.8508175458105622\n",
      "169  0.858791159233609  0.8507990282233836\n",
      "170  0.8587393665384678  0.8507805777363463\n",
      "171  0.8586879437514479  0.850762193660119\n",
      "172  0.8586368855316553  0.8507438752976547\n",
      "173  0.8585861866357691  0.8507256219449673\n",
      "174  0.8585358419158736  0.8507074328918887\n",
      "175  0.858485846317344  0.8506893074228005\n",
      "176  0.8584361948767756  0.8506712448172478\n",
      "177  0.8583868827200029  0.8506532443506882\n",
      "178  0.8583379050601314  0.850635305295022\n",
      "179  0.858289257195646  0.850617426919173\n",
      "180  0.8582409345085453  0.8505996084896704\n",
      "181  0.8581929324625481  0.8505818492711427\n",
      "182  0.8581452466013288  0.8505641485267829\n",
      "183  0.8580978725468114  0.850546505518857\n",
      "184  0.858050805997483  0.850528919509129\n",
      "185  0.8580040427267664  0.8505113897592221\n",
      "186  0.8579575785814584  0.8504939155311113\n",
      "187  0.857911409480144  0.8504764960873759\n",
      "188  0.8578655314117075  0.8504591306916258\n",
      "189  0.8578199404338648  0.8504418186088112\n",
      "190  0.8577746326717006  0.8504245591055097\n",
      "191  0.8577296043163085  0.8504073514502469\n",
      "192  0.8576848516233839  0.8503901949137553\n",
      "193  0.8576403709119205  0.8503730887692325\n",
      "194  0.857596158562895  0.8503560322925893\n",
      "195  0.8575522110180032  0.8503390247626752\n",
      "196  0.8575085247784213  0.8503220654615038\n",
      "197  0.8574650964035962  0.8503051536744312\n",
      "198  0.8574219225100683  0.8502882886903654\n",
      "199  0.8573789997703166  0.85027146980191\n",
      "200  0.8573363249116439  0.8502546963056062\n",
      "201  0.8572938947150666  0.8502379675019831\n",
      "202  0.8572517060142607  0.8502212826957849\n",
      "203  0.8572097556944916  0.8502046411960462\n",
      "204  0.8571680406916162  0.8501880423162632\n",
      "205  0.8571265579910742  0.8501714853744875\n",
      "206  0.8570853046269176  0.8501549696934222\n",
      "207  0.857044277680859  0.8501384946005661\n",
      "208  0.8570034742813302  0.8501220594282264\n",
      "209  0.8569628916025942  0.8501056635136803\n",
      "210  0.8569225268638478  0.8500893061992113\n",
      "211  0.8568823773283476  0.8500729868321911\n"
     ]
    },
    {
     "name": "stdout",
     "output_type": "stream",
     "text": [
      "212  0.8568424403025802  0.8500567047651444\n",
      "213  0.8568027131354148  0.8500404593558045\n",
      "214  0.8567631932173062  0.8500242499671575\n",
      "215  0.8567238779795039  0.8500080759675176\n",
      "216  0.8566847648932714  0.8499919367305173\n",
      "217  0.8566458514691346  0.8499758316352172\n",
      "218  0.8566071352561458  0.849959760066062\n",
      "219  0.8565686138411575  0.8499437214129631\n",
      "220  0.8565302848481169  0.8499277150713211\n",
      "221  0.8564921459373696  0.8499117404419855\n",
      "222  0.8564541948049993  0.8498957969313565\n",
      "223  0.856416429182141  0.849879883951327\n",
      "224  0.8563788468343679  0.8498640009193482\n",
      "225  0.8563414455610228  0.849848147258383\n",
      "226  0.8563042231946347  0.8498323223969525\n",
      "227  0.8562671776002817  0.8498165257690984\n",
      "228  0.8562303066750263  0.8498007568144478\n",
      "229  0.8561936083473128  0.8497850149780982\n",
      "230  0.8561570805764136  0.8497692997107076\n",
      "231  0.8561207213518788  0.849753610468461\n",
      "232  0.8560845286929756  0.849737946713026\n",
      "233  0.856048500648168  0.8497223079115694\n",
      "234  0.8560126352945987  0.8497066935367336\n",
      "235  0.8559769307375765  0.8496911030666309\n",
      "236  0.8559413851100713  0.8496755359847878\n",
      "237  0.8559059965722325  0.8496599917801513\n",
      "238  0.8558707633109143  0.8496444699470854\n",
      "239  0.8558356835391977  0.8496289699853073\n",
      "240  0.8558007554959425  0.8496134913998915\n",
      "241  0.8557659774453201  0.849598033701212\n",
      "242  0.8557313476764075  0.8495825964049587\n",
      "243  0.8556968645027153  0.8495671790320736\n",
      "244  0.8556625262617945  0.8495517811087216\n",
      "245  0.8556283313148154  0.8495364021662958\n",
      "246  0.855594278046162  0.8495210417413335\n",
      "247  0.8555603648630322  0.8495056993755323\n",
      "248  0.8555265901950507  0.8494903746156779\n",
      "249  0.8554929524938886  0.8494750670136371\n",
      "250  0.8554594502328993  0.8494597761263161\n",
      "251  0.8554260819067282  0.84944450151562\n",
      "252  0.8553928460309859  0.849429242748412\n",
      "253  0.8553597411418716  0.8494139993964968\n",
      "254  0.8553267657958378  0.8493987710365765\n",
      "255  0.8552939185692554  0.8493835572501853\n",
      "256  0.8552611980580784  0.8493683576236928\n",
      "257  0.8552286028775236  0.8493531717482592\n",
      "258  0.855196131661744  0.8493379992197698\n",
      "259  0.8551637830635201  0.8493228396388033\n",
      "260  0.8551315557539692  0.8493076926106415\n",
      "261  0.8550994484222214  0.8492925577451711\n",
      "262  0.8550674597751428  0.8492774346568429\n",
      "263  0.8550355885370328  0.8492623229647029\n",
      "264  0.8550038334493535  0.8492472222922655\n",
      "265  0.8549721932704504  0.849232132267537\n",
      "266  0.854940666775273  0.8492170525229438\n",
      "267  0.8549092527551172  0.8492019826953149\n",
      "268  0.8548779500173422  0.8491869224257883\n",
      "269  0.8548467573851557  0.8491718713598744\n",
      "270  0.8548156736973118  0.8491568291473155\n",
      "271  0.8547846978078977  0.8491417954420889\n",
      "272  0.8547538285860756  0.8491267699023629\n",
      "273  0.8547230649158551  0.8491117521904691\n",
      "274  0.8546924056958447  0.8490967419728426\n",
      "275  0.8546618498390383  0.8490817389199966\n",
      "276  0.8546313962725783  0.8490667427064698\n",
      "277  0.8546010439375425  0.8490517530108224\n",
      "278  0.8545707917887134  0.8490367695155168\n",
      "279  0.8545406387943832  0.8490217919069836\n",
      "280  0.8545105839361381  0.8490068198755221\n",
      "281  0.8544806262086404  0.8489918531152522\n",
      "282  0.854450764619447  0.848976891324105\n",
      "283  0.8544209981888026  0.8489619342037839\n",
      "284  0.8543913259494338  0.8489469814597022\n",
      "285  0.8543617469463806  0.8489320328009728\n",
      "286  0.8543322602367909  0.8489170879403418\n",
      "287  0.8543028648897493  0.8489021465941978\n",
      "288  0.8542735599860829  0.8488872084824571\n",
      "289  0.8542443446181943  0.848872273328636\n",
      "290  0.8542152178898832  0.8488573408596911\n",
      "291  0.8541861789161849  0.8488424108061025\n",
      "292  0.8541572268231683  0.8488274829017138\n",
      "293  0.8541283607478256  0.8488125568838245\n",
      "294  0.854099579837858  0.848797632493056\n",
      "295  0.8540708832515498  0.8487827094733578\n",
      "296  0.854042270157587  0.8487677875719573\n",
      "297  0.8540137397349319  0.8487528665393548\n",
      "298  0.8539852911726428  0.8487379461292612\n",
      "299  0.8539569236697439  0.8487230260985568\n"
     ]
    }
   ],
   "source": [
    "for i in range(1,300):\n",
    "    l2=Ridge(alpha=i)\n",
    "    l2.fit(xtrain,ytrain)\n",
    "    \n",
    "    train=l2.score(xtrain,ytrain)\n",
    "    test=l2.score(xtest,ytest)\n",
    "    \n",
    "    print(f\"{i}  {train}  {test}\")"
   ]
  },
  {
   "cell_type": "markdown",
   "id": "0aa27794",
   "metadata": {},
   "source": [
    "# At Alpha=213 we get good Accuracy Value"
   ]
  },
  {
   "cell_type": "code",
   "execution_count": 76,
   "id": "7fa91761",
   "metadata": {},
   "outputs": [
    {
     "name": "stdout",
     "output_type": "stream",
     "text": [
      "Training Results: 0.8568027131354148\n",
      "Testing Results: 0.8500404593558045\n"
     ]
    }
   ],
   "source": [
    "from sklearn.linear_model import Ridge,Lasso\n",
    "l2=Ridge(alpha=213)\n",
    "l2.fit(xtrain,ytrain)\n",
    "ypred=l2.predict(xtest)\n",
    "\n",
    "train=l2.score(xtrain,ytrain)\n",
    "test=l2.score(xtest,ytest)\n",
    "\n",
    "print(f\"Training Results: {train}\")\n",
    "print(f\"Testing Results: {test}\")"
   ]
  },
  {
   "cell_type": "markdown",
   "id": "7b08be30",
   "metadata": {},
   "source": [
    "# 2)Lasso Regularization L1-Error"
   ]
  },
  {
   "cell_type": "code",
   "execution_count": 77,
   "id": "fb5b3808",
   "metadata": {},
   "outputs": [
    {
     "name": "stdout",
     "output_type": "stream",
     "text": [
      "Training Results: 0.7547929832055102\n",
      "Testing Results: 0.7171820166292708\n"
     ]
    }
   ],
   "source": [
    "from sklearn.linear_model import Ridge,Lasso\n",
    "l1=Lasso(alpha=10)\n",
    "l1.fit(xtrain,ytrain)\n",
    "ypred=l1.predict(xtest)\n",
    "\n",
    "train=l1.score(xtrain,ytrain)\n",
    "test=l1.score(xtest,ytest)\n",
    "\n",
    "print(f\"Training Results: {train}\")\n",
    "print(f\"Testing Results: {test}\")"
   ]
  },
  {
   "cell_type": "markdown",
   "id": "d8d522a0",
   "metadata": {},
   "source": [
    "# Hyper parameter Tunning for Lasso"
   ]
  },
  {
   "cell_type": "code",
   "execution_count": 78,
   "id": "d1c1eb00",
   "metadata": {},
   "outputs": [
    {
     "name": "stdout",
     "output_type": "stream",
     "text": [
      "1  0.8438059049440154  0.842789961740593\n",
      "11  0.7469040866715586  0.7057387078865094\n",
      "21  0.6266923698488256  0.5568108791067891\n",
      "31  0.4313483776020606  0.34516533877778677\n",
      "41  0.16087210993126388  0.07080208689950285\n",
      "51  2.7533093543197218e-05  -0.0873842885226439\n",
      "61  2.7511986852579717e-05  -0.08736596821641651\n",
      "71  2.748711110944768e-05  -0.08734765216741569\n",
      "81  2.745846631468929e-05  -0.08732934037564122\n",
      "91  2.7426052468082496e-05  -0.08731103284109398\n",
      "101  2.7389869569183212e-05  -0.08729272956377265\n",
      "111  2.734991761865757e-05  -0.08727443054367767\n",
      "121  2.7306196615950462e-05  -0.08725613578080949\n",
      "131  2.7258706561616997e-05  -0.08723784527516787\n",
      "141  2.7207447455102063e-05  -0.08721955902675282\n",
      "151  2.7152419296627706e-05  -0.08720127703556413\n",
      "161  2.7093622086304947e-05  -0.08718299930160178\n",
      "171  2.7031055824022765e-05  -0.08716472582486645\n",
      "181  2.696472050978116e-05  -0.08714645660535725\n",
      "191  2.689461614358013e-05  -0.08712819164307439\n",
      "201  2.6820742725308655e-05  -0.08710993093801833\n",
      "211  2.6743100255410823e-05  -0.08709167449018884\n",
      "221  2.66616887332205e-05  -0.08707342229958592\n",
      "231  2.65765081592928e-05  -0.08705517436620935\n",
      "241  2.6487558533405675e-05  -0.08703693069005936\n",
      "251  2.6394839855448105e-05  -0.0870186912711357\n",
      "261  2.6298352125642133e-05  -0.08700045610943907\n",
      "271  2.6198095344098782e-05  -0.08698222520496834\n",
      "281  2.609406951026294e-05  -0.08696399855772441\n",
      "291  2.5986274624467676e-05  -0.08694577616770682\n",
      "301  2.5874710686935032e-05  -0.08692755803491581\n",
      "311  2.5759377697442964e-05  -0.08690934415935159\n",
      "321  2.564027565576943e-05  -0.08689113454101349\n",
      "331  2.5517404562247492e-05  -0.08687292917990241\n",
      "341  2.5390764416877154e-05  -0.08685472807601746\n",
      "351  2.5260355219547392e-05  -0.08683653122935908\n",
      "361  2.5126176970258207e-05  -0.08681833863992727\n",
      "371  2.498822966912062e-05  -0.08680015030772203\n",
      "381  2.4846513315801566e-05  -0.08678196623274292\n",
      "391  2.4701027910856155e-05  -0.08676378641499105\n"
     ]
    }
   ],
   "source": [
    "for i in range(1,400,10):\n",
    "    l1=Lasso(alpha=i)\n",
    "    l1.fit(xtrain,ytrain)\n",
    "    \n",
    "    train=l1.score(xtrain,ytrain)\n",
    "    test=l1.score(xtest,ytest)\n",
    "    \n",
    "    print(f\"{i}  {train}  {test}\")"
   ]
  },
  {
   "cell_type": "markdown",
   "id": "90ccb00a",
   "metadata": {},
   "source": [
    "# At Alpha=1 Lasso Regularization Give Good Result"
   ]
  },
  {
   "cell_type": "code",
   "execution_count": 79,
   "id": "55505ad8",
   "metadata": {},
   "outputs": [
    {
     "name": "stdout",
     "output_type": "stream",
     "text": [
      "Training Results: 0.8438059049440154\n",
      "Testing Results: 0.842789961740593\n"
     ]
    }
   ],
   "source": [
    "from sklearn.linear_model import Ridge,Lasso\n",
    "l1=Lasso(alpha=1)\n",
    "l1.fit(xtrain,ytrain)\n",
    "ypred=l1.predict(xtest)\n",
    "\n",
    "train=l1.score(xtrain,ytrain)\n",
    "test=l1.score(xtest,ytest)\n",
    "\n",
    "print(f\"Training Results: {train}\")\n",
    "print(f\"Testing Results: {test}\")"
   ]
  },
  {
   "cell_type": "markdown",
   "id": "c6522c55",
   "metadata": {},
   "source": [
    "# It is concluded that Ridge Regularization give best fit model"
   ]
  },
  {
   "cell_type": "markdown",
   "id": "3334d6ec",
   "metadata": {},
   "source": [
    "# Model Evaluation"
   ]
  },
  {
   "cell_type": "code",
   "execution_count": 80,
   "id": "3e8d7578",
   "metadata": {},
   "outputs": [],
   "source": [
    "#prediction on Training data\n",
    "ypred_Ridge_train=l2.predict(xtrain)"
   ]
  },
  {
   "cell_type": "code",
   "execution_count": 81,
   "id": "a14f6676",
   "metadata": {},
   "outputs": [
    {
     "name": "stdout",
     "output_type": "stream",
     "text": [
      "Accuracy : 0.8568027131354148\n"
     ]
    }
   ],
   "source": [
    "r2 = r2_score(ytrain, ypred_Ridge_train)\n",
    "print(f\"Accuracy : {r2}\")"
   ]
  },
  {
   "cell_type": "code",
   "execution_count": 82,
   "id": "ff44821b",
   "metadata": {},
   "outputs": [],
   "source": [
    "#prediction on Training data\n",
    "ypred_Ridge_test=l2.predict(xtest)"
   ]
  },
  {
   "cell_type": "code",
   "execution_count": 83,
   "id": "0c040109",
   "metadata": {},
   "outputs": [
    {
     "name": "stdout",
     "output_type": "stream",
     "text": [
      "Accuracy : 0.8500404593558045\n"
     ]
    }
   ],
   "source": [
    "r2 = r2_score(ytest, ypred_Ridge_test)\n",
    "print(f\"Accuracy : {r2}\")"
   ]
  },
  {
   "cell_type": "markdown",
   "id": "04ee27e2",
   "metadata": {},
   "source": [
    "# Visualization of Actual Price and Predicted selling Price"
   ]
  },
  {
   "cell_type": "code",
   "execution_count": 84,
   "id": "dd5f4ace",
   "metadata": {},
   "outputs": [
    {
     "data": {
      "image/png": "[encoded data removed]",
      "text/plain": [
       "<Figure size 432x288 with 1 Axes>"
      ]
     },
     "metadata": {
      "needs_background": "light"
     },
     "output_type": "display_data"
    }
   ],
   "source": [
    "plt.scatter(ytrain,l2.predict(xtrain),color=\"red\")\n",
    "plt.xlabel(\"Actual Price\")\n",
    "plt.ylabel(\"Predicted Price\")\n",
    "plt.title(\" Actual Prices vs Predicted Prices\")\n",
    "plt.grid()\n",
    "plt.show()"
   ]
  },
  {
   "cell_type": "code",
   "execution_count": 85,
   "id": "930f092c",
   "metadata": {},
   "outputs": [
    {
     "data": {
      "image/png": "[encoded data removed]",
      "text/plain": [
       "<Figure size 432x288 with 1 Axes>"
      ]
     },
     "metadata": {
      "needs_background": "light"
     },
     "output_type": "display_data"
    }
   ],
   "source": [
    "plt.scatter(ytest,l2.predict(xtest),color=\"blue\")\n",
    "plt.xlabel(\"Actual Price\")\n",
    "plt.ylabel(\"Predicted Price\")\n",
    "plt.title(\" Actual Prices vs Predicted Prices\")\n",
    "plt.grid()\n",
    "plt.show()"
   ]
  },
  {
   "cell_type": "markdown",
   "id": "795b39b2",
   "metadata": {},
   "source": [
    "# Here the Above two graph shows, the Relationship between Actual price and Predicted price of Training And Testing are Homoskedestic\n",
    "(i.e there is constant variance between the variables )"
   ]
  },
  {
   "cell_type": "markdown",
   "id": "7d3265cc",
   "metadata": {},
   "source": [
    "# Priceprediction"
   ]
  },
  {
   "cell_type": "code",
   "execution_count": 86,
   "id": "1bbb513e",
   "metadata": {},
   "outputs": [],
   "source": [
    "def priceprediction(year,pp,kd,ft,st,trans,owner):\n",
    "    newob = [[year,pp,kd,ft,st,trans,owner]]\n",
    "    yp = l2.predict(newob)[0]\n",
    "    print(f\"The price of your Car is $ {yp: .2f}\")\n",
    "    return yp"
   ]
  },
  {
   "cell_type": "code",
   "execution_count": 87,
   "id": "34108175",
   "metadata": {},
   "outputs": [
    {
     "name": "stdout",
     "output_type": "stream",
     "text": [
      "The price of your Car is $  3.90\n"
     ]
    },
    {
     "data": {
      "text/plain": [
       "3.9023011026014274"
      ]
     },
     "execution_count": 87,
     "metadata": {},
     "output_type": "execute_result"
    }
   ],
   "source": [
    "priceprediction(2014,5.59,27000,2,0,1,0)"
   ]
  },
  {
   "cell_type": "code",
   "execution_count": 88,
   "id": "67b94872",
   "metadata": {},
   "outputs": [
    {
     "name": "stdout",
     "output_type": "stream",
     "text": [
      "The price of your Car is $  6.08\n"
     ]
    },
    {
     "data": {
      "text/plain": [
       "6.07932505030351"
      ]
     },
     "execution_count": 88,
     "metadata": {},
     "output_type": "execute_result"
    }
   ],
   "source": [
    "priceprediction(2019,5.59,27000,2,0,1,0)"
   ]
  },
  {
   "cell_type": "code",
   "execution_count": null,
   "id": "ec8b5719",
   "metadata": {},
   "outputs": [],
   "source": []
  },
  {
   "cell_type": "code",
   "execution_count": null,
   "id": "67690295",
   "metadata": {},
   "outputs": [],
   "source": []
  },
  {
   "cell_type": "code",
   "execution_count": null,
   "id": "f9d30ec6",
   "metadata": {},
   "outputs": [],
   "source": []
  }
 ],
 "metadata": {
  "kernelspec": {
   "display_name": "Python 3 (ipykernel)",
   "language": "python",
   "name": "python3"
  },
  "language_info": {
   "codemirror_mode": {
    "name": "ipython",
    "version": 3
   },
   "file_extension": ".py",
   "mimetype": "text/x-python",
   "name": "python",
   "nbconvert_exporter": "python",
   "pygments_lexer": "ipython3",
   "version": "3.9.12"
  }
 },
 "nbformat": 4,
 "nbformat_minor": 5
}
